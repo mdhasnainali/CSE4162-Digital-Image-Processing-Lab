{
 "cells": [
  {
   "cell_type": "code",
   "execution_count": 2,
   "metadata": {},
   "outputs": [],
   "source": [
    "import cv2\n",
    "import matplotlib.pyplot as plt\n",
    "import numpy as np\n",
    "import math"
   ]
  },
  {
   "cell_type": "markdown",
   "metadata": {},
   "source": [
    "### Rotation of an Image\n",
    "\n",
    "\n",
    "\n",
    "**Understand Rotation Transformation**:  \n",
    "   The mathematical formula for rotating a point (x, y) around the origin by an angle $\\theta$ is:  \n",
    "   \n",
    "   $x' = x \\cdot \\cos(\\theta) - y \\cdot \\sin(\\theta)$  \n",
    "   \n",
    "   $y' = x \\cdot \\sin(\\theta) + y \\cdot \\cos(\\theta)$"
   ]
  },
  {
   "cell_type": "code",
   "execution_count": 1,
   "metadata": {},
   "outputs": [],
   "source": [
    "def rotate_image(image, angle):\n",
    "    # Get image dimensions\n",
    "    height, width = image.shape[:2]\n",
    "    center_x, center_y = width // 2, height // 2\n",
    "\n",
    "    # Convert angle to radians\n",
    "    angle_rad = math.radians(angle)\n",
    "\n",
    "    # Create an empty image for the rotated result\n",
    "    rotated = np.zeros_like(image)\n",
    "\n",
    "    for y in range(height):\n",
    "        for x in range(width):\n",
    "            # Translate coordinates to origin (center of the image)\n",
    "            x_shifted = x - center_x\n",
    "            y_shifted = y - center_y\n",
    "\n",
    "            # Apply rotation formula\n",
    "            new_x = int(x_shifted * math.cos(angle_rad) - y_shifted * math.sin(angle_rad))\n",
    "            new_y = int(x_shifted * math.sin(angle_rad) + y_shifted * math.cos(angle_rad))\n",
    "\n",
    "            # Translate back to the original coordinate system\n",
    "            new_x += center_x\n",
    "            new_y += center_y\n",
    "\n",
    "            # If new coordinates are within bounds, copy pixel value\n",
    "            if 0 <= new_x < width and 0 <= new_y < height:\n",
    "                rotated[new_y, new_x] = image[y, x]\n",
    "\n",
    "    return rotated\n"
   ]
  },
  {
   "cell_type": "markdown",
   "metadata": {},
   "source": []
  }
 ],
 "metadata": {
  "kernelspec": {
   "display_name": "ml_tf",
   "language": "python",
   "name": "python3"
  },
  "language_info": {
   "codemirror_mode": {
    "name": "ipython",
    "version": 3
   },
   "file_extension": ".py",
   "mimetype": "text/x-python",
   "name": "python",
   "nbconvert_exporter": "python",
   "pygments_lexer": "ipython3",
   "version": "3.12.7"
  }
 },
 "nbformat": 4,
 "nbformat_minor": 2
}
