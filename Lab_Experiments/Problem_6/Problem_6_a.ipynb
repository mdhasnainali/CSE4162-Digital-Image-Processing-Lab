{
 "cells": [
  {
   "cell_type": "markdown",
   "id": "ccb2145b",
   "metadata": {},
   "source": [
    "### Take a binary image and a structuring element to perform the following morphological operations –"
   ]
  },
  {
   "cell_type": "code",
   "execution_count": null,
   "id": "85a319bc",
   "metadata": {},
   "outputs": [],
   "source": []
  }
 ],
 "metadata": {
  "language_info": {
   "name": "python"
  }
 },
 "nbformat": 4,
 "nbformat_minor": 5
}
